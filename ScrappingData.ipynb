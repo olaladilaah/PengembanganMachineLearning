{
  "cells": [
    {
      "cell_type": "code",
      "execution_count": null,
      "metadata": {
        "colab": {
          "base_uri": "https://localhost:8080/"
        },
        "id": "se70JbXJsZow",
        "outputId": "cda3e731-acd9-4d66-a8d1-4c7b9f59830a"
      },
      "outputs": [],
      "source": [
        "!pip install google_play_scraper"
      ]
    },
    {
      "cell_type": "code",
      "execution_count": 4,
      "metadata": {
        "id": "kflvaImrrJF-"
      },
      "outputs": [],
      "source": [
        "# Import library\n",
        "from google_play_scraper import reviews_all, reviews, Sort\n",
        "import pandas as pd"
      ]
    },
    {
      "cell_type": "code",
      "execution_count": 5,
      "metadata": {
        "id": "JQQSpKnKsPCe"
      },
      "outputs": [],
      "source": [
        "# Mengambil 30.000 ulasan dari aplikasi Tokopedia\n",
        "app_reviews = reviews(\n",
        "    app_id='com.mobile.legends',  # ID aplikasi Tokopedia\n",
        "    language='id',  # Mengambil ulasan dalam bahasa Indonesia\n",
        "    country='ID',  # Dari negara Indonesia\n",
        "    sort_order=Sort.MOST_RELEVANT,  # Mengurutkan berdasarkan relevansi ulasan\n",
        "    review_count=30000,  # Mengambil 30.000 ulasan\n",
        "    filter_by_score=None  # Tanpa penyaringan berdasarkan skor\n",
        ")\n"
      ]
    },
    {
      "cell_type": "code",
      "execution_count": 6,
      "metadata": {
        "id": "TqMIwwq0sPJT"
      },
      "outputs": [],
      "source": [
        "# Menyimpan hasil scrap ke dalam file csv\n",
        "data = pd.DataFrame(scrapreview[0])\n",
        "data.to_csv('ulasan_mobile_legends.csv', index=False)"
      ]
    }
  ],
  "metadata": {
    "colab": {
      "provenance": []
    },
    "kernelspec": {
      "display_name": "Python 3",
      "name": "python3"
    },
    "language_info": {
      "name": "python"
    }
  },
  "nbformat": 4,
  "nbformat_minor": 0
}
